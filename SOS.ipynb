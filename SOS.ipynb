{
 "cells": [
  {
   "cell_type": "code",
   "execution_count": 28,
   "metadata": {},
   "outputs": [],
   "source": [
    "import cvxpy as cp\n",
    "import numpy as np\n",
    "import matplotlib.pyplot as plt\n",
    "import scipy as sci\n",
    "import sympy as sp\n",
    "from sympy import symbols, Add, Mul\n",
    "from sympy.core import Basic\n",
    "import time \n",
    "import numbers   "
   ]
  },
  {
   "cell_type": "code",
   "execution_count": 29,
   "metadata": {},
   "outputs": [],
   "source": [
    "def SOS(p, degree, n_var):\n",
    "    \n",
    "    # p : Coefficients of polynomial in increasing order of degree\n",
    "    # n : No of variable\n",
    "    \n",
    "    half_degree = int(degree/2)\n",
    "    len_mono = int(sci.special.comb(n_var+degree,degree)) # (n+d)Cd\n",
    "    \n",
    "    if(isinstance(p, list)):\n",
    "        if(len(p)==0):\n",
    "            p = cp.Variable(len_mono)\n",
    "    \n",
    "\n",
    "    # Creating constraints for SOS polynomial\n",
    "\n",
    "\n",
    "    # Create matrix of coefficients\n",
    "\n",
    "    Q = cp.Variable((half_degree+1,half_degree+1))\n",
    "\n",
    "    constraint = [Q>>0]  # Semidefinite\n",
    "\n",
    "    for k in range(0,len_mono):\n",
    "        sum = 0\n",
    "        for i in range(0,k+1,1):\n",
    "            if((i<half_degree+1) & (k-i<half_degree+1)):\n",
    "                sum+=Q[i,k-i]\n",
    "        constraint+=[sum == p[k]]\n",
    "\n",
    "    return p,Q,constraint\n",
    "\n",
    "def multiply_polynomials(A, B):\n",
    "    \n",
    "    # The result of multiplication will have degree (len(A) + len(B) - 2)\n",
    "    na = len(A)\n",
    "    if(isinstance(B, list)):\n",
    "        nb = len(B)\n",
    "    else:\n",
    "        nb = B.shape[0]\n",
    "\n",
    "    result_length = na + nb - 1\n",
    "    result = []\n",
    "    \n",
    "    # Perform the polynomial multiplication\n",
    "    for i in range(na):\n",
    "        for j in range(nb):\n",
    "            if i + j < len(result):\n",
    "                result[i + j] += A[i] * B[j]\n",
    "            else:\n",
    "                # If the index exceeds current list length, append a coeffient\n",
    "                result.append(A[i] * B[j])\n",
    "    \n",
    "    return result\n",
    "\n",
    "def SOS_multi(p, degree, n_var):\n",
    "    \n",
    "    # p : Coefficients of polynomial in increasing order of degree\n",
    "    # n : No of variable\n",
    "    \n",
    "    half_degree = int(degree/2)\n",
    "    len_mono = int(sci.special.comb(n_var+degree,degree))\n",
    "        \n",
    "\n",
    "    # Creating constraints for SOS polynomial\n",
    "\n",
    "\n",
    "    # Create matrix of coefficients\n",
    "\n",
    "    def split_monomial(term, basis):\n",
    "        term_poly = sp.Poly(term, x, y)\n",
    "        term_dict = term_poly.as_expr().as_coefficients_dict()\n",
    "        \n",
    "        split = []\n",
    "        # Iterate through all possible pairs in the basis\n",
    "        for i, m1 in enumerate(basis):\n",
    "            for j, m2 in enumerate(basis[i:], start=i):\n",
    "                product = m1 * m2\n",
    "                product_poly = sp.Poly(product, x, y)\n",
    "                product_dict = product_poly.as_expr().as_coefficients_dict()\n",
    "                \n",
    "                if product_dict == term_dict:\n",
    "                    split.append((m1, m2))\n",
    "\n",
    "        if len(split)==0:            \n",
    "            raise ValueError(f\"No valid split for {term} in the given basis.\")\n",
    "        return split\n",
    "\n",
    "    terms = []\n",
    "    for k in range(degree + 1):\n",
    "        for i in range(k + 1):\n",
    "            j = k - i\n",
    "            terms.append(x**i * y**j)\n",
    "    \n",
    "    half_terms = []\n",
    "    for k in range(half_degree + 1):\n",
    "        for j in range(k + 1):\n",
    "            i = k - j\n",
    "            half_terms.append(x**i * y**j)\n",
    "\n",
    "\n",
    "    size = len(half_terms) \n",
    "    Q = cp.Variable((size, size), symmetric=True)\n",
    "    constraint = [Q>>0]\n",
    "\n",
    "    for poly_ind,term in enumerate(terms):\n",
    "        # Split term into monomial components (e.g., x^2y^2 → (x^2, y^2))\n",
    "        monomial_list = split_monomial(term, half_terms)  \n",
    "        sum = 0\n",
    "        for m1, m2 in monomial_list:\n",
    "            idx_i = half_terms.index(m1)\n",
    "            idx_j = half_terms.index(m2)\n",
    "            if idx_i == idx_j:\n",
    "                sum += Q[idx_i, idx_j] \n",
    "            else:\n",
    "                sum += Q[idx_i, idx_j] + Q[idx_j, idx_i]\n",
    "    \n",
    "        constraint+=[sum == p[poly_ind]]\n",
    "\n",
    "    return p,Q,constraint\n",
    "\n",
    "def extract_coeff(polynomial, d):\n",
    "    x, y = sp.symbols('x y')\n",
    "    # Generate all monomial terms x^i y^j where i + j <= d\n",
    "    terms = []\n",
    "    for k in range(d + 1):\n",
    "        for j in range(k + 1):\n",
    "            i = k - j\n",
    "            terms.append(x**i * y**j)\n",
    "    # Extract coefficients with zero preservation\n",
    "    \n",
    "    result = [sp.Poly(polynomial, x, y).coeff_monomial(term) for term in terms]\n",
    "\n",
    "    return result\n",
    "\n",
    "def Solver(objective,constraint,solver = cp.SCS):\n",
    "\n",
    "    problem = cp.Problem(objective, constraint) # Define the problem\n",
    "\n",
    "    init =time.time()\n",
    "\n",
    "    if solver == cp.SCS:\n",
    "        problem.solve(solver=solver,max_iters=int(1e7), eps=1e-7)\n",
    "    elif solver == cp.CLARABEL:\n",
    "        problem.solve(solver=solver, max_iter = int(1e7), tol_feas = 1e-9)\n",
    "                            \n",
    "    final = time.time()\n",
    "\n",
    "    print('Size of problem : ', problem.size_metrics.num_scalar_data)\n",
    "    print('Solver used : ',problem.solver_stats.solver_name) \n",
    "    print(\"Is the solution optimal : \", problem.status)   \n",
    "    print('Time required by solver to setup the problem :',problem.solver_stats.setup_time,'s')\n",
    "    print('Number of iterations :',problem.solver_stats.num_iters)\n",
    "    print('Time required by solver to solve the problem :',problem.solver_stats.solve_time,'s')\n",
    "    print(\"Optimal cost :\", problem.value)"
   ]
  },
  {
   "cell_type": "markdown",
   "metadata": {},
   "source": [
    "# SOS programming\n",
    "Univariate polynomial can be written as sum of squares. To find the minimum value of a polynomial $p(x)$, we formulate it as a SDP optimization\n",
    "$$\n",
    "\\begin{aligned}\n",
    "\\text{maximize} \\quad & \\gamma \\\\\n",
    "\\text{subject to} \\quad & p(x) - \\gamma \\geq 0 \\Leftrightarrow p(x) - \\gamma = [x]_d^TQ[x]_d \\quad \\forall x \\\\\n",
    "Q \\succeq 0\n",
    "\\end{aligned}\n",
    "$$"
   ]
  },
  {
   "cell_type": "code",
   "execution_count": 30,
   "metadata": {},
   "outputs": [],
   "source": [
    "def SOS_minimization(p,degree,n_var):\n",
    "    gamma = cp.Variable()\n",
    "    p_coeff = p.copy()\n",
    "    p_coeff[0]-=gamma\n",
    "    _,Q,constraint = SOS(p_coeff,degree,n_var)\n",
    "    \n",
    "    objective = cp.Maximize(gamma)\n",
    "    Solver(objective,constraint)\n",
    "    print(\"Optimal gamma:\",gamma.value)\n",
    "    print(\"Optimal Q:\",'\\n', Q.value)"
   ]
  },
  {
   "cell_type": "code",
   "execution_count": 31,
   "metadata": {},
   "outputs": [],
   "source": [
    "def SOS_interval_min(p,a,b,degree,n_var):\n",
    "    gamma = cp.Variable()\n",
    "    p_coeff = p.copy()\n",
    "    p_coeff[0]-=gamma\n",
    "    p_s2,Q_s2,constraint_s2 = SOS([],degree-2,n_var)\n",
    "\n",
    "    xa = [-a,1]\n",
    "    xb = [b,-1]\n",
    "    res_xa_xb = multiply_polynomials(xa, xb)\n",
    "    res_p_s2 = multiply_polynomials(res_xa_xb,p_s2)\n",
    "    \n",
    "    s1 = [x - y for x, y in zip(p_coeff, res_p_s2)]\n",
    "\n",
    "    p_s1,Q_s1,constraint_s1 = SOS(s1,degree,n_var)\n",
    "    objective = cp.Maximize(gamma)\n",
    "    constraint = constraint_s1+constraint_s2\n",
    "    Solver(objective,constraint)\n",
    "    \n",
    "    print(\"Optimal gamma:\",gamma.value)\n",
    "    print(\"Optimal ps2:\", p_s2.value)"
   ]
  },
  {
   "cell_type": "code",
   "execution_count": 32,
   "metadata": {},
   "outputs": [
    {
     "name": "stdout",
     "output_type": "stream",
     "text": [
      "Size of problem :  6\n",
      "Solver used :  SCS\n",
      "Is the solution optimal :  optimal\n",
      "Time required by solver to setup the problem : 0.000110263 s\n",
      "Number of iterations : 225\n",
      "Time required by solver to solve the problem : 0.0012623930000000001 s\n",
      "Optimal cost : -12.099892072788217\n",
      "Optimal gamma: -12.099892072788217\n",
      "Optimal Q: \n",
      " [[ 7.09989207  2.5        -1.08276326]\n",
      " [ 2.5         3.16552654  0.99999999]\n",
      " [-1.08276328  1.00000001  1.        ]]\n"
     ]
    }
   ],
   "source": [
    "p  = [-5,5,1,2,1]\n",
    "a = -1\n",
    "b = 2\n",
    "SOS_minimization(p, degree = 4, n_var = 1)"
   ]
  },
  {
   "cell_type": "markdown",
   "metadata": {},
   "source": [
    "To find minimum of $p(x)$ in a interval $[a,b]$, we formulate the SDP optimization as \n",
    "$$\n",
    "\\begin{aligned}\n",
    "\\text{maximize} \\quad & \\gamma \\\\\n",
    "\\text{subject to} \\quad & s(x) \\in SOS \\\\\n",
    "&p(x) - \\gamma - (x-a)(b-x)s(x) \\in SOS \\quad if \\ deg(p(x)) \\text{ is even}\\\\ \n",
    "\n",
    "\\end{aligned}\n",
    "$$"
   ]
  },
  {
   "cell_type": "code",
   "execution_count": 33,
   "metadata": {},
   "outputs": [
    {
     "name": "stdout",
     "output_type": "stream",
     "text": [
      "Size of problem :  16\n",
      "Solver used :  SCS\n",
      "Is the solution optimal :  optimal\n",
      "Time required by solver to setup the problem : 0.000125172 s\n",
      "Number of iterations : 100\n",
      "Time required by solver to solve the problem : 0.0008434390000000001 s\n",
      "Optimal cost : -9.999999994399568\n",
      "Optimal gamma: -9.999999994399568\n",
      "Optimal ps2: [1.46832572 1.09252257 1.29086351]\n"
     ]
    }
   ],
   "source": [
    "SOS_interval_min(p, a, b, degree = 4, n_var = 1)"
   ]
  },
  {
   "cell_type": "code",
   "execution_count": 34,
   "metadata": {},
   "outputs": [
    {
     "data": {
      "image/png": "[encoded data removed]",
      "text/plain": [
       "<Figure size 640x480 with 1 Axes>"
      ]
     },
     "metadata": {},
     "output_type": "display_data"
    }
   ],
   "source": [
    "x = np.arange(-2, 2+0.1, 0.1)\n",
    "px = 0\n",
    "for i,p_el in enumerate(p):\n",
    "    px +=p_el*x**i\n",
    "\n",
    "plt.plot(x, px, label='px')  # Solid line for px\n",
    "plt.plot(x, -12.099892072788217 * np.ones(x.shape), '--', label='y = -12.099', color='red')  # Dotted line\n",
    "plt.plot(x, -10.000001763695249 * np.ones(x.shape), '--', label='y = -10.000', color='green')  # Dotted line\n",
    "\n",
    "plt.legend()\n",
    "plt.xlabel('x')\n",
    "plt.ylabel('$p(x)$')\n",
    "plt.title('Polynomial $p(x) = x^4+2x^3+x^2+5x-5$')\n",
    "plt.grid()"
   ]
  },
  {
   "cell_type": "markdown",
   "metadata": {},
   "source": [
    "# Problem 3 : Multivariate SOS polynomials\n",
    "\n",
    "In the case of multivariate polynomial, non negative polynomials may not be written in terms of sum of square polynomial. But in the case of bivariate quadratics (n = 2, 2d = 4), we can write it as sum of square polynomial. For other types of polynomial, non negative polynomial need not be sum of squares polynomial. \n",
    "\n",
    "Example : Motzkin polynomial - $M(x,y) = x^4y^2+x^2y^4+1-3x^2y^2$. This polynomial cannot be written as sum of squares. If we try to solve $M(x,y) - \\gamma \\in SOS$ as optimization problem to find the minimum of $M(x,y)$ like we did for univariate case, we can see that no $\\gamma$ exist."
   ]
  },
  {
   "cell_type": "code",
   "execution_count": 35,
   "metadata": {},
   "outputs": [
    {
     "data": {
      "text/plain": [
       "'\\n1 x^0y^0 *\\n2 x^1y^0\\n3 x^0y^1\\n4 x^2y^0\\n5 x^1y^1\\n6 x^0y^2\\n7 x^3y^0\\n8 x^2y^1\\n9 x^1y^2\\n10 x^0y^3\\n11 x^4y^0\\n12 x^3y^1\\n13 x^2y^2 *\\n14 x^1y^3\\n15 x^0y^4\\n16 x^5y^0\\n17 x^4y^1\\n18 x^3y^2\\n19 x^2y^3\\n20 x^1y^4\\n21 x^0y^5\\n22 x^6y^0\\n23 x^5y^1\\n24 x^4y^2 *\\n25 x^3y^3\\n26 x^2y^4 *\\n27 x^1y^5\\n28 x^0y^6\\n'"
      ]
     },
     "execution_count": 35,
     "metadata": {},
     "output_type": "execute_result"
    }
   ],
   "source": [
    "deg = 6\n",
    "n = 2\n",
    "length = sci.special.comb(deg+n,deg)\n",
    "m = np.zeros(int(length)) # 1 − 3x2y2 + x4y2 + x2y4  \n",
    "m[0] = 1\n",
    "m[12] = -3\n",
    "m[23] = 1\n",
    "m[25] = 1 \n",
    "m = m.tolist()\n",
    "\n",
    "q = np.zeros(int(length)) # 1 + y2 + x2  \n",
    "q[0] = 1\n",
    "q[3] = 1\n",
    "q[5] = 1 \n",
    "q = q.tolist()\n",
    "\n",
    "x , y = sp.symbols('x y')\n",
    "poly1 = 1 - 3*x**2*y**2 + x**4*y**2 + x**2*y**4\n",
    "poly2 = 1 + x**2  + y**2\n",
    "\n",
    "\n",
    "'''\n",
    "1 x^0y^0 *\n",
    "2 x^1y^0\n",
    "3 x^0y^1\n",
    "4 x^2y^0\n",
    "5 x^1y^1\n",
    "6 x^0y^2\n",
    "7 x^3y^0\n",
    "8 x^2y^1\n",
    "9 x^1y^2\n",
    "10 x^0y^3\n",
    "11 x^4y^0\n",
    "12 x^3y^1\n",
    "13 x^2y^2 *\n",
    "14 x^1y^3\n",
    "15 x^0y^4\n",
    "16 x^5y^0\n",
    "17 x^4y^1\n",
    "18 x^3y^2\n",
    "19 x^2y^3\n",
    "20 x^1y^4\n",
    "21 x^0y^5\n",
    "22 x^6y^0\n",
    "23 x^5y^1\n",
    "24 x^4y^2 *\n",
    "25 x^3y^3\n",
    "26 x^2y^4 *\n",
    "27 x^1y^5\n",
    "28 x^0y^6\n",
    "'''\n",
    "\n",
    "# extract_coeff : [1, x, y, x**2, x*y, y**2, x**3, x**2*y, x*y**2, y**3, x**4, x**3*y, x**2*y**2, x*y**3, y**4, x**5, x**4*y, x**3*y**2, x**2*y**3, x*y**4, y**5, x**6, x**5*y, x**4*y**2, x**3*y**3, x**2*y**4, x*y**5, y**6]\n",
    "# Polynomial list : [1, 0, 0, 0, 0, 0, 0, 0, 0, 0, 0, 0, -3, 0, 0, 0, 0, 0, 0, 0, 0, 0, 0, 1, 0, 1, 0, 0]"
   ]
  },
  {
   "cell_type": "code",
   "execution_count": 36,
   "metadata": {},
   "outputs": [],
   "source": [
    "def SOS_multi_min(p,degree,n_var, solver = cp.SCS):\n",
    "    gamma = cp.Variable()\n",
    "\n",
    "    p_vec = extract_coeff(p,degree)\n",
    "    p_vec[0]-=gamma\n",
    "    _,Q,constraint = SOS_multi(p_vec,degree,n_var)\n",
    "    \n",
    "    objective = cp.Maximize(gamma)\n",
    "     \n",
    "    Solver(objective,constraint,solver)\n",
    "    \n",
    "    print(\"Optimal gamma:\",gamma.value)\n",
    "    #print(\"Optimal Q:\", Q.value)"
   ]
  },
  {
   "cell_type": "code",
   "execution_count": 37,
   "metadata": {},
   "outputs": [
    {
     "name": "stdout",
     "output_type": "stream",
     "text": [
      "Size of problem :  29\n",
      "Solver used :  CLARABEL\n",
      "Is the solution optimal :  optimal_inaccurate\n",
      "Time required by solver to setup the problem : None s\n",
      "Number of iterations : 12791\n",
      "Time required by solver to solve the problem : 3.423264178 s\n",
      "Optimal cost : -1703.660407461297\n",
      "Optimal gamma: -1703.660407461297\n"
     ]
    },
    {
     "name": "stderr",
     "output_type": "stream",
     "text": [
      "/home/arivoli/Python/py_3_12_3/install_module_venv/lib/python3.12/site-packages/cvxpy/problems/problem.py:1481: UserWarning: Solution may be inaccurate. Try another solver, adjusting the solver settings, or solve with verbose=True for more information.\n",
      "  warnings.warn(\n"
     ]
    }
   ],
   "source": [
    "SOS_multi_min(poly1, degree = 6, n_var = 2, solver = cp.CLARABEL)"
   ]
  },
  {
   "cell_type": "markdown",
   "metadata": {},
   "source": [
    "## Hierarchy SOS relaxation\n",
    "\n",
    "Using the Hilbert - Artin's theorem : If $p(x)$ is non-negative polynomial, then there exist non zero SOS polynomials $h(x) \\ \\text{and} \\ q(x)$ such that \n",
    "$$h(x)p(x) = q(x)$$\n",
    "It means, if we multiply a SOS polynomial $h(x)$ to a non-negative polynomial $p(x)$, we get a SOS polynomial $q(x) = h(x)p(x)$. Using this we can formulate the minimization of polynomial \n",
    "\n",
    "$$\n",
    "\\begin{aligned}\n",
    "\\text{maximize} \\quad & \\gamma \\\\\n",
    "\\text{subject to} \\quad & (1+x^2+y^2)(M(x,y)-\\gamma) \\in SOS \\\\\n",
    "\\end{aligned}\n",
    "$$"
   ]
  },
  {
   "cell_type": "code",
   "execution_count": 38,
   "metadata": {},
   "outputs": [],
   "source": [
    "def SOS_multi_formulate(p,q,degree,n_var,solver = cp.SCS):\n",
    "    gamma = cp.Variable()\n",
    "\n",
    "    res = p*q\n",
    "    r_vec = extract_coeff(res,degree*2)\n",
    "    q_vec = extract_coeff(q,degree*2)\n",
    "    \n",
    "    r_coeff = [x - gamma*y for x, y in zip(r_vec, q_vec)]\n",
    "\n",
    "    p_res,Q_res,constraint = SOS_multi(r_coeff,2*degree,n_var)\n",
    "\n",
    "    objective = cp.Maximize(gamma)\n",
    "     \n",
    "    Solver(objective,constraint,solver)\n",
    "    \n",
    "    print(\"Optimal gamma:\",gamma.value)\n",
    "    #print(\"Optimal Q_res:\", Q_res.value)"
   ]
  },
  {
   "cell_type": "code",
   "execution_count": 39,
   "metadata": {},
   "outputs": [
    {
     "name": "stdout",
     "output_type": "stream",
     "text": [
      "Size of problem :  183\n",
      "Solver used :  CLARABEL\n",
      "Is the solution optimal :  optimal\n",
      "Time required by solver to setup the problem : None s\n",
      "Number of iterations : 17\n",
      "Time required by solver to solve the problem : 0.342510668 s\n",
      "Optimal cost : 2.0292412200409237e-10\n",
      "Optimal gamma: 2.0292412200409237e-10\n"
     ]
    }
   ],
   "source": [
    "SOS_multi_formulate(poly1, poly2, degree = 6, n_var = 2, solver = cp.CLARABEL)"
   ]
  },
  {
   "cell_type": "code",
   "execution_count": 64,
   "metadata": {},
   "outputs": [
    {
     "name": "stdout",
     "output_type": "stream",
     "text": [
      "[1, x, y, x**2, x*y, y**2, x**3, x**2*y, x*y**2, y**3, x**4, x**3*y, x**2*y**2, x*y**3, y**4]\n",
      "[1, x, y, x**2, x*y, y**2, x**3, x**2*y, x*y**2, y**3, x**4, x**3*y, x**2*y**2, x*y**3, y**4, x**5, x**4*y, x**3*y**2, x**2*y**3, x*y**4, y**5, x**6, x**5*y, x**4*y**2, x**3*y**3, x**2*y**4, x*y**5, y**6]\n"
     ]
    }
   ],
   "source": [
    "def get_monomial(d):\n",
    "    x, y = sp.symbols('x y')\n",
    "    # Generate all monomial terms x^i y^j where i + j <= d\n",
    "    terms = []\n",
    "    for k in range(d + 1):\n",
    "        for j in range(k + 1):\n",
    "            i = k - j\n",
    "            terms.append(x**i * y**j)\n",
    "    return terms\n",
    "\n",
    "print(get_monomial(4))\n",
    "print(get_monomial(6))"
   ]
  },
  {
   "cell_type": "code",
   "execution_count": 65,
   "metadata": {},
   "outputs": [],
   "source": [
    "def create_new_coeff_list_x_y(original_coeff, r, mult):\n",
    "    # Calculate total terms in new polynomial: (r+1)(r+2)/2 r - degree of old polynomial\n",
    "    new_length = (r+2 + 1) * (r+2 + 2) // 2\n",
    "    new_coeff_list =  [0]* new_length\n",
    "    \n",
    "    pos = 0  # Position in original_coeff list\n",
    "    \n",
    "    for k in range(r + 1):  # Iterate through monomial of original polynomial\n",
    "        for i in range(k + 1):  # For each term (i, j) where i + j = k\n",
    "            # Calculate new term's index after x^2/y^2 multiplication\n",
    "            m = k + 2  # New total degree after multiplying by x^2/y^2\n",
    "            if(mult=='x'):\n",
    "                new_index = m * (m + 1) // 2 + (i)\n",
    "            elif(mult=='y'):\n",
    "                new_index = m * (m + 1) // 2 + (i + 2)\n",
    "            \n",
    "            if new_index < new_length:\n",
    "                new_coeff_list[new_index] = original_coeff[pos]\n",
    "            pos += 1\n",
    "    \n",
    "    return new_coeff_list"
   ]
  },
  {
   "cell_type": "markdown",
   "metadata": {},
   "source": [
    "## Putinar Positivstellensatz\n",
    "\n",
    "For the constrained Motzkin polynomial minimization, we use Putinar Positivstellensatz to formulate it into SDP \n",
    "$$\n",
    "\\begin{aligned}\n",
    "\\text{maximize} \\quad & \\gamma \\\\\n",
    "\\text{subject to} \\quad & s_1(x), s_2(x) \\in SOS_d, SOS_{d-2} \\\\\n",
    "&p(x) - \\gamma = s_1(x)+(2-x^2-y^2)s_2(x) \\quad (x^2+y^2 \\leq 2)\\\\ \n",
    "\\end{aligned}\n",
    "$$\n",
    "\n",
    "For various degree d of the SOS polynomial we get better solution from the hierarchy optimization"
   ]
  },
  {
   "cell_type": "code",
   "execution_count": 77,
   "metadata": {},
   "outputs": [],
   "source": [
    "def SOS_heirachy(p,r,degree,n_var, c = 2):\n",
    "    gamma = cp.Variable()\n",
    "    x,y = sp.symbols('x y')\n",
    "    length = int(sci.special.comb(n_var+r-2,r-2))\n",
    "    length_new = int(sci.special.comb(n_var+r,r))\n",
    "    p_s2 = cp.Variable(length)\n",
    "    _,Q_s2,constraint_s2 = SOS_multi(p_s2,r-2,n_var)\n",
    "\n",
    "\n",
    "    p_new = [0]*length_new  # After multiplication of (c-x^2-y^2)s2(x,y)\n",
    "    p_new[:length] = c*p_s2 # For multiplication of 'c'\n",
    "    prod_x = create_new_coeff_list_x_y(p_s2, r-2, 'x')  # For multiplication of x2\n",
    "    prod_y = create_new_coeff_list_x_y(p_s2, r-2, 'y')  # For multiplication of y2\n",
    "\n",
    "    prod = [x - y -z for x, y, z in zip(p_new, prod_x, prod_y)]\n",
    "\n",
    "    p_coeff = extract_coeff(p,r)\n",
    "    p_coeff[0]-=gamma\n",
    "    s1 = [x - y for x, y in zip(p_coeff, prod)]\n",
    "\n",
    "    p_s1,Q_s1,constraint_s1 = SOS_multi(s1,r,n_var)\n",
    "    objective = cp.Maximize(gamma)\n",
    "    constraint = constraint_s1+constraint_s2\n",
    "    Solver(objective,constraint)\n",
    "    \n",
    "    print(\"Optimal gamma:\",gamma.value)\n",
    "    print(\"Optimal ps2:\", p_s2.value)"
   ]
  },
  {
   "cell_type": "code",
   "execution_count": 78,
   "metadata": {},
   "outputs": [
    {
     "name": "stdout",
     "output_type": "stream",
     "text": [
      "Size of problem :  66\n",
      "Solver used :  SCS\n",
      "Is the solution optimal :  optimal\n",
      "Time required by solver to setup the problem : 0.000291408 s\n",
      "Number of iterations : 425\n",
      "Time required by solver to solve the problem : 0.013761409 s\n",
      "Optimal cost : -6.725805923565332e-08\n",
      "Optimal gamma: -6.725805923565332e-08\n",
      "Optimal ps2: [ 3.08961928e-01 -7.60575637e-15 -2.89473703e-14 -3.09865407e-01\n",
      "  7.77169464e-13 -3.09865407e-01  8.54596790e-13  3.38245924e-13\n",
      " -8.47146238e-13 -3.08934148e-13  4.33997583e-01 -6.55427658e-13\n",
      " -5.57223809e-01 -1.24441714e-13  4.33997583e-01]\n"
     ]
    }
   ],
   "source": [
    "SOS_heirachy(poly1,6,6,2, c = 2)"
   ]
  },
  {
   "cell_type": "code",
   "execution_count": 79,
   "metadata": {},
   "outputs": [
    {
     "name": "stdout",
     "output_type": "stream",
     "text": [
      "Size of problem :  95\n",
      "Solver used :  SCS\n",
      "Is the solution optimal :  optimal\n",
      "Time required by solver to setup the problem : 0.000438291 s\n",
      "Number of iterations : 375\n",
      "Time required by solver to solve the problem : 0.029029658 s\n",
      "Optimal cost : 2.397113716329514e-08\n",
      "Optimal gamma: 2.397113716329514e-08\n",
      "Optimal ps2: [ 3.79317528e-01 -2.33178307e-16 -8.57305985e-15  6.11426431e-02\n",
      " -2.72971729e-15  6.11426431e-02 -9.82042133e-15  2.74686056e-15\n",
      " -9.83274729e-16  6.68592797e-16  1.00829984e-01  3.27134339e-14\n",
      " -1.59415545e+00 -3.09530074e-14  1.00829984e-01 -4.18419066e-16\n",
      "  4.93217325e-16  1.85705643e-14  1.80773260e-14 -6.44692127e-15\n",
      " -1.38810315e-14  2.91021423e-01 -3.30939300e-14  1.54435015e-01\n",
      "  1.99228646e-14  1.54435015e-01  1.70329393e-14  2.91021423e-01]\n"
     ]
    }
   ],
   "source": [
    "SOS_heirachy(poly1,8,6,2, c = 2)"
   ]
  },
  {
   "cell_type": "code",
   "execution_count": 80,
   "metadata": {},
   "outputs": [
    {
     "name": "stdout",
     "output_type": "stream",
     "text": [
      "Size of problem :  128\n",
      "Solver used :  SCS\n",
      "Is the solution optimal :  optimal\n",
      "Time required by solver to setup the problem : 0.001004147 s\n",
      "Number of iterations : 1050\n",
      "Time required by solver to solve the problem : 0.15935965500000002 s\n",
      "Optimal cost : 1.0659189454307765e-07\n",
      "Optimal gamma: 1.0659189454307765e-07\n",
      "Optimal ps2: [ 4.14746992e-01 -1.48965868e-15  4.02567560e-14  1.49214401e-01\n",
      " -1.42340170e-14  1.49214401e-01 -4.28962847e-15 -1.99029005e-14\n",
      "  8.46619153e-15  2.00101475e-14  1.73992334e-02  3.54794776e-14\n",
      " -1.29405827e+00  3.51292228e-15  1.73992334e-02  6.79843160e-15\n",
      " -1.93842760e-14 -1.73898021e-14 -1.05550766e-14 -6.05675172e-15\n",
      "  7.78534276e-15  1.40336814e-01  2.22085729e-14 -1.62803993e-01\n",
      " -5.66505938e-14 -1.62803993e-01  1.35487894e-15  1.40336814e-01\n",
      " -1.13689278e-14  1.07363489e-15 -3.41855152e-14  1.03704667e-14\n",
      "  5.75931089e-14 -2.09223904e-14  1.41474707e-15 -8.83817860e-15\n",
      "  1.07457343e-01 -1.93533568e-14  9.90743929e-02  1.88888836e-14\n",
      "  1.77965739e-01  3.42008562e-14  9.90743929e-02 -2.54598459e-14\n",
      "  1.07457343e-01]\n"
     ]
    }
   ],
   "source": [
    "SOS_heirachy(poly1,10,6,2, c = 2)"
   ]
  },
  {
   "cell_type": "code",
   "execution_count": 81,
   "metadata": {},
   "outputs": [
    {
     "name": "stdout",
     "output_type": "stream",
     "text": [
      "Size of problem :  165\n",
      "Solver used :  SCS\n",
      "Is the solution optimal :  optimal\n",
      "Time required by solver to setup the problem : 0.00157851 s\n",
      "Number of iterations : 775\n",
      "Time required by solver to solve the problem : 0.223335218 s\n",
      "Optimal cost : 1.1140702588589824e-08\n",
      "Optimal gamma: 1.1140702588589824e-08\n",
      "Optimal ps2: [ 4.23201070e-01  8.73485299e-16  1.11588363e-15  2.36943223e-01\n",
      "  2.89504464e-14  2.36943223e-01  9.68935468e-15  4.14115072e-14\n",
      " -1.62579981e-14 -2.12889340e-14  1.13979220e-03 -7.79133930e-16\n",
      " -1.26360629e+00  1.58604809e-14  1.13979220e-03 -4.20594615e-14\n",
      " -9.09803267e-15  7.72531011e-15 -6.94925878e-14  3.34536386e-15\n",
      "  4.63737743e-14  2.19552431e-02 -6.23138990e-15 -1.21774397e-01\n",
      " -7.55495621e-14 -1.21774397e-01  3.99250546e-14  2.19552431e-02\n",
      "  4.45150750e-15 -4.61194019e-14 -3.72949043e-15  7.37426275e-14\n",
      " -2.93520437e-14  5.25127708e-15  2.06467458e-14 -3.11556719e-15\n",
      "  1.17048540e-01 -1.48861194e-14 -6.04113644e-02  1.27588118e-14\n",
      "  5.06762877e-02  1.14113665e-14 -6.04113644e-02  1.48168525e-14\n",
      "  1.17048540e-01 -2.60112322e-16 -4.00370903e-14  1.93737449e-14\n",
      "  5.28850025e-15 -7.28233185e-15  8.61334035e-15  5.36084722e-14\n",
      " -6.86743952e-15 -1.69734974e-14  4.84941618e-15  6.48588036e-02\n",
      " -7.13568153e-15  5.90726985e-02  1.72526313e-14  7.60350733e-02\n",
      "  1.11092615e-14  7.60350733e-02 -3.35450959e-14  5.90726985e-02\n",
      " -1.09608089e-14  6.48588036e-02]\n"
     ]
    }
   ],
   "source": [
    "SOS_heirachy(poly1,12,6,2, c = 2)"
   ]
  },
  {
   "cell_type": "markdown",
   "metadata": {},
   "source": [
    "If we constrain the optimization to $x^2+y^2 \\leq 1$ instead of 2, we get the minimum value as 0.5, which is correct if we calculate optimization using Lagrange method."
   ]
  },
  {
   "cell_type": "code",
   "execution_count": 82,
   "metadata": {},
   "outputs": [
    {
     "name": "stdout",
     "output_type": "stream",
     "text": [
      "Size of problem :  66\n",
      "Solver used :  SCS\n",
      "Is the solution optimal :  optimal\n",
      "Time required by solver to setup the problem : 0.000311318 s\n",
      "Number of iterations : 100\n",
      "Time required by solver to solve the problem : 0.003504732 s\n",
      "Optimal cost : 0.4999998277713989\n",
      "Optimal gamma: 0.4999998277713989\n",
      "Optimal ps2: [ 4.59199349e-01 -4.04635126e-16  3.21011208e-16  1.90903068e-01\n",
      "  5.34324046e-15  1.90903068e-01 -2.52614080e-15  3.38254029e-15\n",
      "  4.14076051e-15 -4.79901591e-15  4.19493058e-01  4.97562322e-18\n",
      " -4.39394242e-01 -9.75810617e-15  4.19493058e-01]\n"
     ]
    }
   ],
   "source": [
    "SOS_heirachy(poly1,6,6,2, c = 1)"
   ]
  },
  {
   "cell_type": "code",
   "execution_count": 83,
   "metadata": {},
   "outputs": [
    {
     "name": "stdout",
     "output_type": "stream",
     "text": [
      "Size of problem :  95\n",
      "Solver used :  SCS\n",
      "Is the solution optimal :  optimal\n",
      "Time required by solver to setup the problem : 0.0005347380000000001 s\n",
      "Number of iterations : 125\n",
      "Time required by solver to solve the problem : 0.006371427 s\n",
      "Optimal cost : 0.500000036015939\n",
      "Optimal gamma: 0.500000036015939\n",
      "Optimal ps2: [ 4.10068900e-01 -1.65194213e-17 -6.93308845e-15  3.01337046e-01\n",
      " -1.92491532e-15  3.01337046e-01  4.91056230e-16  9.73956613e-15\n",
      " -1.76508494e-15 -1.18833853e-15  2.69474054e-01 -1.14019405e-16\n",
      " -9.80278892e-01  5.62721003e-15  2.69474054e-01  6.03598139e-16\n",
      "  2.51927544e-15  5.41220323e-15  5.39401316e-15 -3.21063220e-15\n",
      "  2.14590448e-15  2.23130897e-01  1.03416520e-15  3.72575601e-01\n",
      " -5.15016515e-15  3.72575601e-01 -6.28985504e-16  2.23130897e-01]\n"
     ]
    }
   ],
   "source": [
    "SOS_heirachy(poly1,8,6,2, c = 1)"
   ]
  },
  {
   "cell_type": "code",
   "execution_count": 84,
   "metadata": {},
   "outputs": [
    {
     "name": "stdout",
     "output_type": "stream",
     "text": [
      "Size of problem :  128\n",
      "Solver used :  SCS\n",
      "Is the solution optimal :  optimal\n",
      "Time required by solver to setup the problem : 0.00098794 s\n",
      "Number of iterations : 150\n",
      "Time required by solver to solve the problem : 0.023080273 s\n",
      "Optimal cost : 0.5000000081109733\n",
      "Optimal gamma: 0.5000000081109733\n",
      "Optimal ps2: [ 3.10167736e-01 -7.88557680e-16  1.09059483e-15  2.71332574e-01\n",
      "  5.40970714e-15  2.71332574e-01  7.45644351e-15 -4.32388061e-15\n",
      " -7.36176829e-15  4.69993671e-15  3.13393619e-01  1.50141847e-14\n",
      " -1.00011187e+00 -1.45265506e-14  3.13393619e-01  2.97388257e-15\n",
      " -2.54205121e-15 -8.90682356e-15 -4.79867237e-16  3.30996218e-15\n",
      " -2.95197910e-15  3.35567786e-01 -1.01559067e-14  5.39106053e-01\n",
      " -5.62687751e-15  5.39106053e-01 -7.78428624e-15  3.35567786e-01\n",
      " -2.30459300e-16  6.83776703e-15  9.74989044e-16 -3.57588210e-15\n",
      "  1.24941839e-14 -2.16445334e-15 -6.53834707e-15  3.00717298e-15\n",
      "  7.70409170e-02 -2.81363586e-15  1.55026070e-01  2.71853438e-16\n",
      "  2.26463684e-01  2.07526157e-15  1.55026070e-01 -4.32898981e-15\n",
      "  7.70409170e-02]\n"
     ]
    }
   ],
   "source": [
    "SOS_heirachy(poly1,10,6,2, c = 1)"
   ]
  },
  {
   "cell_type": "code",
   "execution_count": 85,
   "metadata": {},
   "outputs": [
    {
     "name": "stdout",
     "output_type": "stream",
     "text": [
      "Size of problem :  165\n",
      "Solver used :  SCS\n",
      "Is the solution optimal :  optimal\n",
      "Time required by solver to setup the problem : 0.001652909 s\n",
      "Number of iterations : 150\n",
      "Time required by solver to solve the problem : 0.043212928 s\n",
      "Optimal cost : 0.4999999337982509\n",
      "Optimal gamma: 0.4999999337982509\n",
      "Optimal ps2: [ 3.27106581e-01  1.60932629e-16  6.51140457e-15  2.87100436e-01\n",
      "  1.16343466e-14  2.87100436e-01 -4.72350447e-15  1.15730658e-14\n",
      " -2.46821454e-15 -5.40091122e-15  2.31633730e-01 -9.26464229e-15\n",
      " -1.08251078e+00 -6.62415378e-15  2.31633730e-01  5.53208091e-15\n",
      " -7.72494682e-15 -1.34616507e-14 -1.69082827e-14  6.98107135e-15\n",
      " -1.08545406e-14  2.99330374e-01 -5.54358679e-15  4.25544833e-01\n",
      " -1.64046619e-15  4.25544833e-01 -1.71722365e-15  2.99330374e-01\n",
      "  3.07895422e-15  3.62641658e-15  5.97848923e-15  7.49358557e-16\n",
      "  8.69336777e-15 -4.66607876e-16  6.06930955e-16 -2.87054531e-15\n",
      "  2.05216574e-01 -2.83682176e-18  3.00220087e-01 -4.56658097e-15\n",
      "  5.03135191e-01 -5.35535842e-15  3.00220087e-01  2.00010339e-15\n",
      "  2.05216574e-01  1.59232454e-15 -1.08927817e-15  5.22559015e-15\n",
      "  5.92104454e-15  2.55709238e-15 -8.83141094e-16  3.46321890e-17\n",
      " -2.55146356e-15  1.78515136e-15 -1.59163323e-15  4.93721380e-02\n",
      "  2.31936478e-15  6.83265996e-02  7.76365340e-16  1.18458356e-01\n",
      "  4.93625234e-15  1.18458356e-01 -1.75532429e-15  6.83265996e-02\n",
      "  3.27785152e-15  4.93721380e-02]\n"
     ]
    }
   ],
   "source": [
    "SOS_heirachy(poly1,12,6,2, c = 1)"
   ]
  }
 ],
 "metadata": {
  "kernelspec": {
   "display_name": "install_module_venv",
   "language": "python",
   "name": "python3"
  },
  "language_info": {
   "codemirror_mode": {
    "name": "ipython",
    "version": 3
   },
   "file_extension": ".py",
   "mimetype": "text/x-python",
   "name": "python",
   "nbconvert_exporter": "python",
   "pygments_lexer": "ipython3",
   "version": "3.12.3"
  }
 },
 "nbformat": 4,
 "nbformat_minor": 2
}
